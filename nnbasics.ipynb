{
  "nbformat": 4,
  "nbformat_minor": 0,
  "metadata": {
    "colab": {
      "provenance": []
    },
    "kernelspec": {
      "name": "python3",
      "display_name": "Python 3"
    },
    "language_info": {
      "name": "python"
    }
  },
  "cells": [
    {
      "cell_type": "code",
      "execution_count": null,
      "metadata": {
        "id": "X7r5Fg3g1Xk5"
      },
      "outputs": [],
      "source": [
        "import torch\n",
        "import torch.nn as nn\n",
        "import torch.optim as optim\n",
        "import torchvision\n",
        "import torchvision.transforms as transforms\n",
        "from torch.utils.data import DataLoader\n",
        "import matplotlib.pyplot as plt\n",
        "import numpy as np"
      ]
    },
    {
      "cell_type": "code",
      "source": [
        "input_size=784\n",
        "hidden_size=128\n",
        "num_classes=10\n",
        "num_epochs=10\n",
        "batch_size=100\n",
        "learning_rate=0.001"
      ],
      "metadata": {
        "id": "iVe0jiez5SUY"
      },
      "execution_count": null,
      "outputs": []
    },
    {
      "cell_type": "code",
      "source": [
        "transform=transforms.Compose([\n",
        "    transforms.ToTensor(),\n",
        "    transforms.Normalize((0.5,),(0.5,))\n",
        "    ])"
      ],
      "metadata": {
        "id": "PB8x292H5fBU"
      },
      "execution_count": null,
      "outputs": []
    },
    {
      "cell_type": "code",
      "source": [
        "train_dataset=torchvision.datasets.MNIST(root='./data',train=True,download=True,transform=transform)\n",
        "test_dataset=torchvision.datasets.MNIST(root='./data',train=False,download=True,transform=transform)\n",
        "train_loader=DataLoader(train_dataset,batch_size=batch_size,shuffle=True)\n",
        "test_Loader=DataLoader(test_dataset,batch_size=batch_size,shuffle=False)\n"
      ],
      "metadata": {
        "colab": {
          "base_uri": "https://localhost:8080/"
        },
        "id": "SjUk_y-F4U-o",
        "outputId": "2858c48a-0908-458b-e3da-9b1a3093f8d9"
      },
      "execution_count": null,
      "outputs": [
        {
          "output_type": "stream",
          "name": "stdout",
          "text": [
            "Downloading http://yann.lecun.com/exdb/mnist/train-images-idx3-ubyte.gz\n",
            "Failed to download (trying next):\n",
            "HTTP Error 403: Forbidden\n",
            "\n",
            "Downloading https://ossci-datasets.s3.amazonaws.com/mnist/train-images-idx3-ubyte.gz\n",
            "Downloading https://ossci-datasets.s3.amazonaws.com/mnist/train-images-idx3-ubyte.gz to ./data/MNIST/raw/train-images-idx3-ubyte.gz\n"
          ]
        },
        {
          "output_type": "stream",
          "name": "stderr",
          "text": [
            "100%|██████████| 9912422/9912422 [00:00<00:00, 16403593.40it/s]\n"
          ]
        },
        {
          "output_type": "stream",
          "name": "stdout",
          "text": [
            "Extracting ./data/MNIST/raw/train-images-idx3-ubyte.gz to ./data/MNIST/raw\n",
            "\n",
            "Downloading http://yann.lecun.com/exdb/mnist/train-labels-idx1-ubyte.gz\n",
            "Failed to download (trying next):\n",
            "HTTP Error 403: Forbidden\n",
            "\n",
            "Downloading https://ossci-datasets.s3.amazonaws.com/mnist/train-labels-idx1-ubyte.gz\n",
            "Downloading https://ossci-datasets.s3.amazonaws.com/mnist/train-labels-idx1-ubyte.gz to ./data/MNIST/raw/train-labels-idx1-ubyte.gz\n"
          ]
        },
        {
          "output_type": "stream",
          "name": "stderr",
          "text": [
            "100%|██████████| 28881/28881 [00:00<00:00, 495063.87it/s]\n"
          ]
        },
        {
          "output_type": "stream",
          "name": "stdout",
          "text": [
            "Extracting ./data/MNIST/raw/train-labels-idx1-ubyte.gz to ./data/MNIST/raw\n",
            "\n",
            "Downloading http://yann.lecun.com/exdb/mnist/t10k-images-idx3-ubyte.gz\n",
            "Failed to download (trying next):\n",
            "HTTP Error 403: Forbidden\n",
            "\n",
            "Downloading https://ossci-datasets.s3.amazonaws.com/mnist/t10k-images-idx3-ubyte.gz\n",
            "Downloading https://ossci-datasets.s3.amazonaws.com/mnist/t10k-images-idx3-ubyte.gz to ./data/MNIST/raw/t10k-images-idx3-ubyte.gz\n"
          ]
        },
        {
          "output_type": "stream",
          "name": "stderr",
          "text": [
            "100%|██████████| 1648877/1648877 [00:00<00:00, 3867939.56it/s]\n"
          ]
        },
        {
          "output_type": "stream",
          "name": "stdout",
          "text": [
            "Extracting ./data/MNIST/raw/t10k-images-idx3-ubyte.gz to ./data/MNIST/raw\n",
            "\n",
            "Downloading http://yann.lecun.com/exdb/mnist/t10k-labels-idx1-ubyte.gz\n",
            "Failed to download (trying next):\n",
            "HTTP Error 403: Forbidden\n",
            "\n",
            "Downloading https://ossci-datasets.s3.amazonaws.com/mnist/t10k-labels-idx1-ubyte.gz\n",
            "Downloading https://ossci-datasets.s3.amazonaws.com/mnist/t10k-labels-idx1-ubyte.gz to ./data/MNIST/raw/t10k-labels-idx1-ubyte.gz\n"
          ]
        },
        {
          "output_type": "stream",
          "name": "stderr",
          "text": [
            "100%|██████████| 4542/4542 [00:00<00:00, 1465650.77it/s]"
          ]
        },
        {
          "output_type": "stream",
          "name": "stdout",
          "text": [
            "Extracting ./data/MNIST/raw/t10k-labels-idx1-ubyte.gz to ./data/MNIST/raw\n",
            "\n"
          ]
        },
        {
          "output_type": "stream",
          "name": "stderr",
          "text": [
            "\n"
          ]
        }
      ]
    },
    {
      "cell_type": "code",
      "source": [
        "class MLP(nn.Module):\n",
        "  def __init__(self,input_size,hidden_size,num_classes):\n",
        "    super(MLP,self).__init__()\n",
        "    self.fc1=nn.Linear(input_size,hidden_size)\n",
        "    self.relu=nn.ReLU()\n",
        "    self.fc2=nn.Linear(hidden_size,num_classes)\n",
        "  def forward(self,x):\n",
        "   x=x.view(-1,784)\n",
        "   x=self.fc1(x)\n",
        "   x= self.relu(x)\n",
        "   x=self.fc2(x)\n",
        "   return x"
      ],
      "metadata": {
        "id": "e9KQQYhE7uSW"
      },
      "execution_count": null,
      "outputs": []
    },
    {
      "cell_type": "code",
      "source": [
        "model=MLP(input_size,hidden_size,num_classes)\n",
        "print(model)"
      ],
      "metadata": {
        "colab": {
          "base_uri": "https://localhost:8080/"
        },
        "id": "JnEGlzRGB4Pe",
        "outputId": "3ecd9285-9a0e-4dc0-be48-56f6b4674869"
      },
      "execution_count": null,
      "outputs": [
        {
          "output_type": "stream",
          "name": "stdout",
          "text": [
            "MLP(\n",
            "  (fc1): Linear(in_features=784, out_features=128, bias=True)\n",
            "  (relu): ReLU()\n",
            "  (fc2): Linear(in_features=128, out_features=10, bias=True)\n",
            ")\n"
          ]
        }
      ]
    },
    {
      "cell_type": "code",
      "source": [
        "criterion=nn.CrossEntropyLoss()\n",
        "optimizer=optim.Adam(model.parameters(),lr=learning_rate)\n"
      ],
      "metadata": {
        "id": "EZhqHxqSWZ5O"
      },
      "execution_count": null,
      "outputs": []
    },
    {
      "cell_type": "code",
      "source": [
        "for epochs in range(num_epochs):\n",
        "  for i,(images,labels) in enumerate(train_loader):\n",
        "    outputs=model(images)\n",
        "    optimizer.zero_grad()\n",
        "    loss=criterion(outputs,labels)\n",
        "    loss.backward()\n",
        "    optimizer.step()\n",
        "    if (i+1)%100==0:\n",
        "      print(f'Epoch [{epochs+1}/{num_epochs}],Step [{i+1}/{len(train_loader)}],Loss:{loss.item():.4f}')\n"
      ],
      "metadata": {
        "colab": {
          "base_uri": "https://localhost:8080/"
        },
        "id": "p7sLb4lTCEKy",
        "outputId": "bf626ac6-2f42-4c87-a3a0-64164c45b0a6"
      },
      "execution_count": null,
      "outputs": [
        {
          "output_type": "stream",
          "name": "stdout",
          "text": [
            "Epoch [1/10],Step [100/600],Loss:0.2432\n",
            "Epoch [1/10],Step [200/600],Loss:0.3949\n",
            "Epoch [1/10],Step [300/600],Loss:0.2708\n",
            "Epoch [1/10],Step [400/600],Loss:0.5355\n",
            "Epoch [1/10],Step [500/600],Loss:0.3442\n",
            "Epoch [1/10],Step [600/600],Loss:0.2510\n",
            "Epoch [2/10],Step [100/600],Loss:0.1830\n",
            "Epoch [2/10],Step [200/600],Loss:0.1196\n",
            "Epoch [2/10],Step [300/600],Loss:0.2419\n",
            "Epoch [2/10],Step [400/600],Loss:0.3051\n",
            "Epoch [2/10],Step [500/600],Loss:0.0833\n",
            "Epoch [2/10],Step [600/600],Loss:0.1839\n",
            "Epoch [3/10],Step [100/600],Loss:0.2342\n",
            "Epoch [3/10],Step [200/600],Loss:0.2128\n",
            "Epoch [3/10],Step [300/600],Loss:0.2609\n",
            "Epoch [3/10],Step [400/600],Loss:0.1266\n",
            "Epoch [3/10],Step [500/600],Loss:0.1924\n",
            "Epoch [3/10],Step [600/600],Loss:0.0552\n",
            "Epoch [4/10],Step [100/600],Loss:0.1586\n",
            "Epoch [4/10],Step [200/600],Loss:0.1421\n",
            "Epoch [4/10],Step [300/600],Loss:0.1092\n",
            "Epoch [4/10],Step [400/600],Loss:0.1308\n",
            "Epoch [4/10],Step [500/600],Loss:0.0937\n",
            "Epoch [4/10],Step [600/600],Loss:0.0716\n",
            "Epoch [5/10],Step [100/600],Loss:0.0272\n",
            "Epoch [5/10],Step [200/600],Loss:0.1351\n",
            "Epoch [5/10],Step [300/600],Loss:0.0646\n",
            "Epoch [5/10],Step [400/600],Loss:0.0644\n",
            "Epoch [5/10],Step [500/600],Loss:0.0592\n",
            "Epoch [5/10],Step [600/600],Loss:0.1043\n",
            "Epoch [6/10],Step [100/600],Loss:0.1331\n",
            "Epoch [6/10],Step [200/600],Loss:0.1058\n",
            "Epoch [6/10],Step [300/600],Loss:0.0743\n",
            "Epoch [6/10],Step [400/600],Loss:0.0639\n",
            "Epoch [6/10],Step [500/600],Loss:0.0609\n",
            "Epoch [6/10],Step [600/600],Loss:0.1574\n",
            "Epoch [7/10],Step [100/600],Loss:0.0290\n",
            "Epoch [7/10],Step [200/600],Loss:0.1377\n",
            "Epoch [7/10],Step [300/600],Loss:0.1679\n",
            "Epoch [7/10],Step [400/600],Loss:0.1183\n",
            "Epoch [7/10],Step [500/600],Loss:0.1855\n",
            "Epoch [7/10],Step [600/600],Loss:0.1136\n",
            "Epoch [8/10],Step [100/600],Loss:0.2282\n",
            "Epoch [8/10],Step [200/600],Loss:0.0408\n",
            "Epoch [8/10],Step [300/600],Loss:0.0326\n",
            "Epoch [8/10],Step [400/600],Loss:0.0757\n",
            "Epoch [8/10],Step [500/600],Loss:0.0236\n",
            "Epoch [8/10],Step [600/600],Loss:0.2043\n",
            "Epoch [9/10],Step [100/600],Loss:0.0367\n",
            "Epoch [9/10],Step [200/600],Loss:0.0456\n",
            "Epoch [9/10],Step [300/600],Loss:0.0234\n",
            "Epoch [9/10],Step [400/600],Loss:0.0199\n",
            "Epoch [9/10],Step [500/600],Loss:0.0632\n",
            "Epoch [9/10],Step [600/600],Loss:0.0145\n",
            "Epoch [10/10],Step [100/600],Loss:0.0649\n",
            "Epoch [10/10],Step [200/600],Loss:0.0259\n",
            "Epoch [10/10],Step [300/600],Loss:0.0639\n",
            "Epoch [10/10],Step [400/600],Loss:0.0230\n",
            "Epoch [10/10],Step [500/600],Loss:0.0181\n",
            "Epoch [10/10],Step [600/600],Loss:0.0554\n"
          ]
        }
      ]
    },
    {
      "cell_type": "code",
      "source": [
        "model.eval()\n",
        "with torch.no_grad():\n",
        "  correct=0\n",
        "  total=0\n",
        "  for(images,labels)in test_Loader:\n",
        "    outputs=model(images)\n",
        "    _,predicted=torch.max(outputs.data,1)\n",
        "    total+=labels.size(0)\n",
        "    correct+=(predicted==labels).sum().item()\n",
        "  print(f'Accuracy of the network on the 10000 test images:{100*correct/total}%')"
      ],
      "metadata": {
        "colab": {
          "base_uri": "https://localhost:8080/"
        },
        "id": "UC_nSNGaY3nm",
        "outputId": "24b0be22-d962-4215-9ac8-60fc5836f563"
      },
      "execution_count": null,
      "outputs": [
        {
          "output_type": "stream",
          "name": "stdout",
          "text": [
            "Accuracy of the network on the 10000 test images:97.1%\n"
          ]
        }
      ]
    },
    {
      "cell_type": "code",
      "source": [
        "torch.save(model.state_dict(), 'mlp_mnist.pth')\n"
      ],
      "metadata": {
        "id": "XEz8HMmdcFHd"
      },
      "execution_count": null,
      "outputs": []
    },
    {
      "cell_type": "code",
      "source": [],
      "metadata": {
        "id": "F4ya1ADNb0DV"
      },
      "execution_count": null,
      "outputs": []
    }
  ]
}